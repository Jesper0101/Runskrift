{
 "cells": [
  {
   "cell_type": "code",
   "execution_count": 14,
   "id": "25ea7cbc-d99a-417a-9fd5-5b1c6553d87a",
   "metadata": {},
   "outputs": [],
   "source": [
    "import pandas as pd"
   ]
  },
  {
   "cell_type": "code",
   "execution_count": 28,
   "id": "12eed1d2-09ff-47fd-9838-b6f8dcf78459",
   "metadata": {},
   "outputs": [],
   "source": [
    "# Load the csv file\n",
    "file_path_SWEREF = r'C:\\Users\\xiaya573\\Downloads\\project\\kantan\\rundata-SWEREF.csv'\n",
    "file_path_WGS1 = r'C:\\Users\\xiaya573\\Downloads\\project\\kantan\\rundata-WGS1.csv'\n",
    "file_path_WGS = r'C:\\Users\\xiaya573\\Downloads\\project\\kantan\\rundata-WGS.csv'\n",
    "data_SWEREF = pd.read_csv(file_path_SWEREF)\n",
    "data_WGS1 = pd.read_csv(file_path_WGS1)\n",
    "data_WGS = pd.read_csv(file_path_WGS)"
   ]
  },
  {
   "cell_type": "code",
   "execution_count": 29,
   "id": "8c1df31e-5325-4d4a-bb3c-8ddf1f878037",
   "metadata": {},
   "outputs": [
    {
     "name": "stdout",
     "output_type": "stream",
     "text": [
      "              Signum Plats Socken       Härad Kommun  \\\n",
      "0    SE Fv1988;247       ?      ?  ?, Sverige      ?   \n",
      "1      SE IK365,1 U      ?      ?  ?, Sverige      ?   \n",
      "2      SE IK365,7 U      ?      ?  ?, Sverige      ?   \n",
      "3  SE Owe1996b;136       ?      ?  ?, Sverige      ?   \n",
      "4   SE SHMFid45487       ?      ?  ?, Sverige      ?   \n",
      "\n",
      "                       Placering Koordinater Runtyper Korsform  \\\n",
      "0                    SHM (10683)         NaN      NaN      NaN   \n",
      "1  Museum Gustavianum (UUMF2302)         NaN      NaN      NaN   \n",
      "2  Museum Gustavianum (UUMF2303)         NaN      NaN      NaN   \n",
      "3      Runverket, Raä, Stockholm         NaN      NaN      NaN   \n",
      "4                            SHM         NaN      NaN      NaN   \n",
      "\n",
      "  Period/Datering Stilgruppering Ristare Materialtyp       Material  \\\n",
      "0               ?            NaN     NaN        sten  mörk grönsten   \n",
      "1               U            NaN     NaN      metall           guld   \n",
      "2               U            NaN     NaN      metall           guld   \n",
      "3               V            NaN     NaN        sten            NaN   \n",
      "4              V?            NaN     NaN        sten            NaN   \n",
      "\n",
      "                   Föremål  \n",
      "0             skafthålsyxa  \n",
      "1         brakteat (C-typ)  \n",
      "2         brakteat (C-typ)  \n",
      "3      fragment av runsten  \n",
      "4  fragment av runlös sten  \n"
     ]
    }
   ],
   "source": [
    "print(data_WGS.head())"
   ]
  },
  {
   "cell_type": "code",
   "execution_count": 30,
   "id": "149edf6d-b77b-4e5d-965a-fd21f2c11b27",
   "metadata": {},
   "outputs": [
    {
     "name": "stdout",
     "output_type": "stream",
     "text": [
      "0    NaN\n",
      "1    NaN\n",
      "2    NaN\n",
      "3    NaN\n",
      "4    NaN\n",
      "Name: Koordinater, dtype: object\n"
     ]
    }
   ],
   "source": [
    "print(data_WGS['Koordinater'].head())"
   ]
  },
  {
   "cell_type": "code",
   "execution_count": 32,
   "id": "b25b9fef-662c-4260-a646-0134750cdb67",
   "metadata": {},
   "outputs": [],
   "source": [
    "# Part 1\n",
    "# Delete the brackets and split coordinater into two columns\n",
    "data_WGS[['Latitute', 'Langitute']] = data_WGS['Koordinater'].str.strip('()').str.split(';', expand=True)"
   ]
  },
  {
   "cell_type": "code",
   "execution_count": 33,
   "id": "6402f54f-b386-423c-9be5-87b69d0f94fd",
   "metadata": {},
   "outputs": [],
   "source": [
    "# 将纬度和经度转换为浮点数\n",
    "data_WGS['Latitute'] = data_WGS['Latitute'].astype(float)\n",
    "data_WGS['Langitute'] = data_WGS['Langitute'].astype(float)"
   ]
  },
  {
   "cell_type": "code",
   "execution_count": 35,
   "id": "53df58d0-8ec7-425b-b609-29255c04c3c8",
   "metadata": {},
   "outputs": [
    {
     "name": "stdout",
     "output_type": "stream",
     "text": [
      "                 Signum                Plats             Socken  \\\n",
      "3022    UA Fv1914;47 $              Berezanj                NaN   \n",
      "3023    By Fv1970;248            Hagia Sofia           Istanbul   \n",
      "3024    By NOR1999;26            Hagia Sofia           Istanbul   \n",
      "3025    By NT1984;32 $   Porto Leone, Pireus             Pireus   \n",
      "3026  IT UOÅ1979;229 M     Firenze (Florens)  Firenze (Florens)   \n",
      "\n",
      "                  Härad Kommun  \\\n",
      "3022            Ukraina    NaN   \n",
      "3023   Turkiet (Bysans)    NaN   \n",
      "3024   Turkiet (Bysans)    NaN   \n",
      "3025  Grekland (Bysans)    NaN   \n",
      "3026            Italien    NaN   \n",
      "\n",
      "                                              Placering  \\\n",
      "3022             Arkeologiska museet i Odessa (A-50378)   \n",
      "3023             På södra läktaren i mellersta arkaden.   \n",
      "3024  På balustrad i nisch, norra galleriets västra ...   \n",
      "3025              Utanför Arsenalen i Venedig, Italien.   \n",
      "3026                         Museo Nazionale di Firenze   \n",
      "\n",
      "                                  Koordinater  \\\n",
      "3022                                      NaN   \n",
      "3023  (41.00865009817809 ; 28.97910089420003)   \n",
      "3024  (41.00865009817809 ; 28.97910089420003)   \n",
      "3025                      (37.9446 ; 23.6433)   \n",
      "3026                                      NaN   \n",
      "\n",
      "                                               Runtyper Korsform  \\\n",
      "3022                                                NaN      NaN   \n",
      "3023                                          kortkvist      NaN   \n",
      "3024                                          kortkvist      NaN   \n",
      "3025                                                NaN      NaN   \n",
      "3026  De tre första runorna är knutrunor, e-runorna ...      NaN   \n",
      "\n",
      "                           Period/Datering Stilgruppering Ristare Materialtyp  \\\n",
      "3022                                     V            NaN     NaN        sten   \n",
      "3023                                   V/M            NaN     NaN        sten   \n",
      "3024                                    V?            NaN     NaN        sten   \n",
      "3025                                     V            NaN     NaN        sten   \n",
      "3026  M s 1200-t (konsthistorisk datering)            NaN     NaN    ben/horn   \n",
      "\n",
      "         Material                Föremål  Latitute  Langitute  \n",
      "3022     kalksten  gavelsten i gravkista       NaN        NaN  \n",
      "3023       marmor                    NaN  41.00865  28.979101  \n",
      "3024       marmor                    NaN  41.00865  28.979101  \n",
      "3025       marmor             lejonfigur  37.94460  23.643300  \n",
      "3026  valrosstand    ornerat dryckeshorn       NaN        NaN  \n"
     ]
    }
   ],
   "source": [
    "print(data_WGS.tail())"
   ]
  },
  {
   "cell_type": "code",
   "execution_count": 37,
   "id": "16d388ee-366d-40e2-89bd-02270b9a1f67",
   "metadata": {},
   "outputs": [],
   "source": [
    "output_file_path = r'C:\\Users\\xiaya573\\Downloads\\project\\kantan\\processed_data_WGS.csv'\n",
    "data_WGS.to_csv(output_file_path, index=False)"
   ]
  },
  {
   "cell_type": "code",
   "execution_count": 67,
   "id": "3f55b1fe-5b5e-47ba-8968-22b34383a27b",
   "metadata": {},
   "outputs": [
    {
     "name": "stdout",
     "output_type": "stream",
     "text": [
      "0    HU ?437286 (60.0403530555556 ; -1.21548805555556)\n",
      "1     HU 437286 (60.0403530555556 ; -1.21548805555556)\n",
      "2     HU 432279 (60.0341205555556 ; -1.22461055555556)\n",
      "3     HU 369315 (60.0670611111111 ; -1.33703083333333)\n",
      "4     HU 212780 (60.4857213888889 ; -1.61421194444444)\n",
      "Name: Koordinater, dtype: object\n"
     ]
    }
   ],
   "source": [
    "# Part 2\n",
    "print(data_WGS1['Koordinater'].head())"
   ]
  },
  {
   "cell_type": "code",
   "execution_count": 68,
   "id": "86ae90cc-7b94-4a20-bb30-aa70190e9aa7",
   "metadata": {},
   "outputs": [],
   "source": [
    "import re"
   ]
  },
  {
   "cell_type": "code",
   "execution_count": 69,
   "id": "cf4c5d8f-e9d9-47e3-835a-69c5ee98c00a",
   "metadata": {},
   "outputs": [],
   "source": [
    "def extract_coordinates(Koordinater):\n",
    "    if isinstance(Koordinater, str):\n",
    "        match = re.search(r'\\(([^;]+); ([^)]+)\\)', Koordinater)\n",
    "        if match:\n",
    "            return float(match.group(1)), float(match.group(2))\n",
    "    return None, None"
   ]
  },
  {
   "cell_type": "code",
   "execution_count": 70,
   "id": "593fbc99-8258-40b8-a077-b63338a6c9b4",
   "metadata": {},
   "outputs": [],
   "source": [
    "# 应用提取函数，拆分为纬度和经度\n",
    "data_WGS1['Latitude'], data_WGS1['Longitude'] = zip(*data_WGS1['Koordinater'].apply(extract_coordinates))"
   ]
  },
  {
   "cell_type": "code",
   "execution_count": 71,
   "id": "d0800c4e-705e-4a8b-876b-246759f2c29d",
   "metadata": {},
   "outputs": [
    {
     "name": "stdout",
     "output_type": "stream",
     "text": [
      "          Signum                            Plats    Socken  \\\n",
      "0         Sh 1                  Cunningsburgh (I)       NaN   \n",
      "1         Sh 2                 Cunningsburgh (II)       NaN   \n",
      "2         Sh 3                Cunningsburgh (III)       NaN   \n",
      "3         Sh 4                              Papil       NaN   \n",
      "4         Sh 5                       Eshaness (I)       NaN   \n",
      "..           ...                              ...       ...   \n",
      "128  IM MM159 †                          Balleigh   Lezayre   \n",
      "129  IM MM175 $                      Maughold (V)  Maughold   \n",
      "130  IM MM176 $                       Braddan (V)   Braddan   \n",
      "131  IM MM193 $   Andreas (VII), Larivane Cottage   Andreas   \n",
      "132  IM MM200 $                      Braddan (VI)   Braddan   \n",
      "\n",
      "                    Härad  Kommun  \\\n",
      "0      Mainland, Shetland     NaN   \n",
      "1      Mainland, Shetland     NaN   \n",
      "2      Mainland, Shetland     NaN   \n",
      "3    West Burra, Shetland     NaN   \n",
      "4      Mainland, Shetland     NaN   \n",
      "..                    ...     ...   \n",
      "128           Isle of Man     NaN   \n",
      "129           Isle of Man     NaN   \n",
      "130           Isle of Man     NaN   \n",
      "131           Isle of Man     NaN   \n",
      "132           Isle of Man     NaN   \n",
      "\n",
      "                                             Placering  \\\n",
      "0    Edinburgh, National Museums of Scotland study ...   \n",
      "1    Edinburgh, National Museums of Scotland study ...   \n",
      "2         Edinburgh, Museum of Scotland (NMS X.IB 103)   \n",
      "3                 Lerwick, Shetland Museum (ARC 65860)   \n",
      "4                 Lerwick, Shetland Museum (ARC 65467)   \n",
      "..                                                 ...   \n",
      "128                                           (MM 159)   \n",
      "129                               Manx Museum (MM 175)   \n",
      "130                               Manx Museum (MM 176)   \n",
      "131                               Manx Museum (MM 193)   \n",
      "132                               Manx Museum (MM 200)   \n",
      "\n",
      "                                           Koordinater   Runtyper  Korsform  \\\n",
      "0    HU ?437286 (60.0403530555556 ; -1.21548805555556)        NaN       NaN   \n",
      "1     HU 437286 (60.0403530555556 ; -1.21548805555556)  kortkvist       NaN   \n",
      "2     HU 432279 (60.0341205555556 ; -1.22461055555556)  kortkvist       NaN   \n",
      "3     HU 369315 (60.0670611111111 ; -1.33703083333333)  kortkvist       NaN   \n",
      "4     HU 212780 (60.4857213888889 ; -1.61421194444444)        NaN       NaN   \n",
      "..                                                 ...        ...       ...   \n",
      "128                         SC442953 (54.330 ; -4.397)        NaN       NaN   \n",
      "129   SC 493917 (54.2984922222222 ; -4.31604611111111)  kortkvist       NaN   \n",
      "130   SC 364769 (54.1616247222222 ; -4.50603027777778)        NaN       NaN   \n",
      "131   SC 415994 (54.3652786111111 ; -4.43989638888889)        NaN       NaN   \n",
      "132   SC 364769 (54.1616247222222 ; -4.50603027777778)        NaN       NaN   \n",
      "\n",
      "    Period/Datering Stilgruppering Ristare Materialtyp  Material  \\\n",
      "0          V 1000-t            NaN     NaN        sten  sandsten   \n",
      "1          V 1000-t            NaN     NaN        sten  sandsten   \n",
      "2          V 1000-t            NaN     NaN        sten  sandsten   \n",
      "3          V 1000-t            NaN     NaN        sten  sandsten   \n",
      "4                 ?            NaN     NaN        sten  sandsten   \n",
      "..              ...            ...     ...         ...       ...   \n",
      "128               V            NaN     NaN        sten       NaN   \n",
      "129               V            NaN     NaN        sten       NaN   \n",
      "130              V?            NaN     NaN        sten       NaN   \n",
      "131               V            NaN     NaN        sten       NaN   \n",
      "132               V            NaN     NaN        sten   skiffer   \n",
      "\n",
      "                   Föremål   Latitude  Longitude  \n",
      "0    fragment av gravhäll?  60.040353  -1.215488  \n",
      "1    fragment av gravhäll?  60.040353  -1.215488  \n",
      "2     fragment av gravhäll  60.034121  -1.224611  \n",
      "3      fragment av runsten  60.067061  -1.337031  \n",
      "4      fragment av runsten  60.485721  -1.614212  \n",
      "..                     ...        ...        ...  \n",
      "128   fragment av stenkors  54.330000  -4.397000  \n",
      "129               gravhäll  54.298492  -4.316046  \n",
      "130               fragment  54.161625  -4.506030  \n",
      "131   fragment av gravhäll  54.365279  -4.439896  \n",
      "132               fragment  54.161625  -4.506030  \n",
      "\n",
      "[133 rows x 17 columns]\n"
     ]
    }
   ],
   "source": [
    "# 查看处理后的数据\n",
    "print(data_WGS1)"
   ]
  },
  {
   "cell_type": "code",
   "execution_count": 72,
   "id": "e76e71b6-d69e-4d13-9355-67eb12f6ad08",
   "metadata": {},
   "outputs": [
    {
     "name": "stdout",
     "output_type": "stream",
     "text": [
      "Data saved to C:\\Users\\xiaya573\\Downloads\\project\\kantan\\processed_data_WGS1.csv\n"
     ]
    }
   ],
   "source": [
    "# 保存到本地\n",
    "output_file_path = r'C:\\Users\\xiaya573\\Downloads\\project\\kantan\\processed_data_WGS1.csv'  # 更改文件名和路径\n",
    "data_WGS1.to_csv(output_file_path, index=False)\n",
    "print(f\"Data saved to {output_file_path}\")"
   ]
  },
  {
   "cell_type": "code",
   "execution_count": 56,
   "id": "e4c3e6fd-c861-4509-b267-c3fe43b20c0e",
   "metadata": {},
   "outputs": [
    {
     "name": "stdout",
     "output_type": "stream",
     "text": [
      "0    6275755.1538971\n",
      "1     6283750.154429\n",
      "2     6268390.153928\n",
      "3     6268390.153928\n",
      "4     6264000.153825\n",
      "Name: Koordinater, dtype: object\n"
     ]
    }
   ],
   "source": [
    "# Part 3\n",
    "print(data_SWEREF['Koordinater'].head())"
   ]
  },
  {
   "cell_type": "code",
   "execution_count": 62,
   "id": "69ea28e8-bcbb-4ce5-9174-04ee5b1d844e",
   "metadata": {},
   "outputs": [],
   "source": [
    "data_SWEREF['Koordinater'] = pd.to_numeric(data['Koordinater'], errors = 'coerce')"
   ]
  },
  {
   "cell_type": "code",
   "execution_count": 64,
   "id": "ff2d7c4c-a8d0-4b33-819c-bdeff331c687",
   "metadata": {},
   "outputs": [],
   "source": [
    "data_SWEREF['Latitude'] = data_SWEREF['Koordinater'].apply(lambda x: int(x) if pd.notnull(x) else None) # 小数点前部分作为纬度\n",
    "data_SWEREF['Longtitute'] = data_SWEREF['Koordinater'].apply(lambda x: x - int(x) if pd.notnull(x) else None)# 小数点后部分作为经度"
   ]
  },
  {
   "cell_type": "code",
   "execution_count": 65,
   "id": "b771f17f-9cec-4dc9-9480-65c92f1d5d44",
   "metadata": {},
   "outputs": [
    {
     "name": "stdout",
     "output_type": "stream",
     "text": [
      "        Signum             Plats         Socken          Härad      Kommun  \\\n",
      "0      Öl 1 $            Karlevi    Vickleby sn  Algutsrums hd  Mörbylånga   \n",
      "1     Öl 2 †$   Algutsrums kyrka  Algutsrums sn  Algutsrums hd  Mörbylånga   \n",
      "2     Öl 3 †$        Resmo kyrka       Resmo sn  Algutsrums hd  Mörbylånga   \n",
      "3      Öl 4 $        Resmo kyrka       Resmo sn  Algutsrums hd  Mörbylånga   \n",
      "4      Öl 5 †              Bårby  Mörbylånga sn  Algutsrums hd  Mörbylånga   \n",
      "...        ...               ...            ...            ...         ...   \n",
      "6198       NaN               NaN            NaN            NaN         NaN   \n",
      "6199       NaN               NaN            NaN            NaN         NaN   \n",
      "6200       NaN               NaN            NaN            NaN         NaN   \n",
      "6201       NaN               NaN            NaN            NaN         NaN   \n",
      "6202       NaN               NaN            NaN            NaN         NaN   \n",
      "\n",
      "                           Placering   Koordinater Runtyper Korsform  \\\n",
      "0                                NaN  6.275755e+06      NaN      NaN   \n",
      "1                                NaN  6.283750e+06      NaN      NaN   \n",
      "2                                NaN  6.268390e+06      NaN      NaN   \n",
      "3     Kalmar läns museum (KLM 24962)  6.268390e+06      NaN      NaN   \n",
      "4                                NaN  6.264000e+06      NaN      NaN   \n",
      "...                              ...           ...      ...      ...   \n",
      "6198                             NaN           NaN      NaN      NaN   \n",
      "6199                             NaN           NaN      NaN      NaN   \n",
      "6200                             NaN           NaN      NaN      NaN   \n",
      "6201                             NaN           NaN      NaN      NaN   \n",
      "6202                             NaN           NaN      NaN      NaN   \n",
      "\n",
      "     Period/Datering Stilgruppering Ristare Materialtyp        Material  \\\n",
      "0          V s 900-t            RAK     NaN        sten  smålandsporfyr   \n",
      "1                  V            Pr3     NaN        sten             NaN   \n",
      "2       V efter 1050     Pr3 - Pr4?     NaN        sten             NaN   \n",
      "3       V efter 1050            Pr4     NaN        sten    grå kalksten   \n",
      "4                  V            Pr3     NaN        sten             NaN   \n",
      "...              ...            ...     ...         ...             ...   \n",
      "6198             NaN            NaN     NaN         NaN             NaN   \n",
      "6199             NaN            NaN     NaN         NaN             NaN   \n",
      "6200             NaN            NaN     NaN         NaN             NaN   \n",
      "6201             NaN            NaN     NaN         NaN             NaN   \n",
      "6202             NaN            NaN     NaN         NaN             NaN   \n",
      "\n",
      "                  Föremål   Latitude  Longtitute  \n",
      "0                 runsten  6275755.0    0.153897  \n",
      "1                 runsten  6283750.0    0.154429  \n",
      "2     fragment av runsten  6268390.0    0.153928  \n",
      "3                 runsten  6268390.0    0.153928  \n",
      "4                 runsten  6264000.0    0.153825  \n",
      "...                   ...        ...         ...  \n",
      "6198                  NaN        NaN         NaN  \n",
      "6199                  NaN        NaN         NaN  \n",
      "6200                  NaN        NaN         NaN  \n",
      "6201                  NaN        NaN         NaN  \n",
      "6202                  NaN        NaN         NaN  \n",
      "\n",
      "[6203 rows x 17 columns]\n"
     ]
    }
   ],
   "source": [
    "print(data_SWEREF)"
   ]
  },
  {
   "cell_type": "code",
   "execution_count": 66,
   "id": "70c811f5-9cf1-4851-b785-07048e89d330",
   "metadata": {},
   "outputs": [
    {
     "name": "stdout",
     "output_type": "stream",
     "text": [
      "Data saved to C:\\Users\\xiaya573\\Downloads\\project\\kantan\\processed_data_SWEREF.csv\n"
     ]
    }
   ],
   "source": [
    "# 保存到本地\n",
    "output_file_path = r'C:\\Users\\xiaya573\\Downloads\\project\\kantan\\processed_data_SWEREF.csv'  # 更改文件名和路径\n",
    "data_SWEREF.to_csv(output_file_path, index=False)\n",
    "print(f\"Data saved to {output_file_path}\")"
   ]
  },
  {
   "cell_type": "code",
   "execution_count": null,
   "id": "d25ba0f5-5dda-4864-bd28-1e6c089d063d",
   "metadata": {},
   "outputs": [],
   "source": []
  }
 ],
 "metadata": {
  "kernelspec": {
   "display_name": "Python 3 (ipykernel)",
   "language": "python",
   "name": "python3"
  },
  "language_info": {
   "codemirror_mode": {
    "name": "ipython",
    "version": 3
   },
   "file_extension": ".py",
   "mimetype": "text/x-python",
   "name": "python",
   "nbconvert_exporter": "python",
   "pygments_lexer": "ipython3",
   "version": "3.12.6"
  }
 },
 "nbformat": 4,
 "nbformat_minor": 5
}
