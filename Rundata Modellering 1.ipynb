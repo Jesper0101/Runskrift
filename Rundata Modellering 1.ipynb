{
 "cells": [
  {
   "cell_type": "code",
   "execution_count": 29,
   "id": "1c7c0a51",
   "metadata": {},
   "outputs": [],
   "source": [
    "import os\n",
    "import pandas as pd\n",
    "import numpy as np\n",
    "import requests\n",
    "from io import StringIO\n",
    "from sklearn.linear_model import LogisticRegression\n",
    "from sklearn.model_selection import train_test_split\n",
    "from sklearn.svm import SVC\n",
    "from sklearn.ensemble import RandomForestClassifier\n",
    "from sklearn.preprocessing import LabelEncoder, StandardScaler\n",
    "from sklearn.metrics import classification_report, accuracy_score\n",
    "from sklearn.impute import SimpleImputer\n",
    "import sqlalchemy \n",
    "from sqlalchemy import create_engine, text\n",
    "import matplotlib.pyplot as plt\n",
    "import matplotlib as mpl\n",
    "import chardet\n",
    "import xlrd\n",
    "import re"
   ]
  },
  {
   "cell_type": "code",
   "execution_count": 30,
   "id": "257a4541",
   "metadata": {},
   "outputs": [],
   "source": [
    "file_path = '/Users/goranskejo/Desktop/Projekt Rundata/rundata.xlsx'\n",
    "df = pd.read_excel(file_path)"
   ]
  },
  {
   "cell_type": "code",
   "execution_count": 14,
   "id": "ab4d16ed",
   "metadata": {},
   "outputs": [
    {
     "name": "stdout",
     "output_type": "stream",
     "text": [
      "      Period/Datering Cleaned_Period/Datering\n",
      "0           V s 900-t                     900\n",
      "1                   V                    None\n",
      "2        V efter 1050                    1050\n",
      "3        V efter 1050                    1050\n",
      "4                   V                    None\n",
      "...               ...                     ...\n",
      "11666             NaN                    None\n",
      "11667             NaN                    None\n",
      "11668             NaN                    None\n",
      "11669             NaN                    None\n",
      "11670             NaN                    None\n",
      "\n",
      "[11671 rows x 2 columns]\n",
      "Cleaned data has been saved to the Excel file.\n"
     ]
    }
   ],
   "source": [
    "def clean_date(date_string):\n",
    "    if isinstance(date_string, str):  # Check if the value is a string\n",
    "        # Extract the first sequence of 3 or 4 digits, possibly followed by a dash and another sequence of digits\n",
    "        clean_date = re.search(r'\\d{3,4}(-\\d{3,4})?', date_string)\n",
    "        if clean_date:\n",
    "            return clean_date.group(0)  # Return the cleaned date (e.g., '1100-1150' or '900')\n",
    "    return None  # If no valid date format is found, return None\n",
    "\n",
    "# Apply the cleaning function to the 'Period_Datering' column\n",
    "df['Cleaned_Period/Datering'] = df['Period/Datering'].apply(clean_date)\n",
    "\n",
    "# View the cleaned data\n",
    "print(df[['Period/Datering', 'Cleaned_Period/Datering']])\n",
    "\n",
    "# Save the updated DataFrame to the same Excel file\n",
    "df.to_excel(file_path, index=False)\n",
    "\n",
    "print(\"Cleaned data has been saved to the Excel file.\")"
   ]
  },
  {
   "cell_type": "code",
   "execution_count": 15,
   "id": "22583202",
   "metadata": {},
   "outputs": [
    {
     "name": "stdout",
     "output_type": "stream",
     "text": [
      "Number of unique values in 'Period/Datering': 587\n",
      "Number of unique values in 'Cleaned_Period/Datering': 241\n"
     ]
    }
   ],
   "source": [
    "# Count the number of unique values in the columns 'Period/Datering' and 'Cleaned_Period/Datering'\n",
    "Period_Datering_unique_values_count = df['Period/Datering'].nunique()\n",
    "Cleaned_Period_Datering_unique_values_count = df['Cleaned_Period/Datering'].nunique()\n",
    "\n",
    "print(f\"Number of unique values in 'Period/Datering': {Period_Datering_unique_values_count}\")\n",
    "print(f\"Number of unique values in 'Cleaned_Period/Datering': {Cleaned_Period_Datering_unique_values_count}\")"
   ]
  },
  {
   "cell_type": "code",
   "execution_count": 33,
   "id": "eb34a455",
   "metadata": {},
   "outputs": [
    {
     "name": "stderr",
     "output_type": "stream",
     "text": [
      "/var/folders/p4/z85crthd66l5xfvh7tbbvz0h0000gn/T/ipykernel_97868/205612314.py:25: SettingWithCopyWarning: \n",
      "A value is trying to be set on a copy of a slice from a DataFrame.\n",
      "Try using .loc[row_indexer,col_indexer] = value instead\n",
      "\n",
      "See the caveats in the documentation: https://pandas.pydata.org/pandas-docs/stable/user_guide/indexing.html#returning-a-view-versus-a-copy\n",
      "  X_train[column] = encoder.fit_transform(X_train[column])\n",
      "/var/folders/p4/z85crthd66l5xfvh7tbbvz0h0000gn/T/ipykernel_97868/205612314.py:28: SettingWithCopyWarning: \n",
      "A value is trying to be set on a copy of a slice from a DataFrame.\n",
      "Try using .loc[row_indexer,col_indexer] = value instead\n",
      "\n",
      "See the caveats in the documentation: https://pandas.pydata.org/pandas-docs/stable/user_guide/indexing.html#returning-a-view-versus-a-copy\n",
      "  X_test[column] = X_test[column].apply(lambda x: encoder.transform([x])[0] if x in encoder.classes_ else np.nan)\n",
      "/var/folders/p4/z85crthd66l5xfvh7tbbvz0h0000gn/T/ipykernel_97868/205612314.py:25: SettingWithCopyWarning: \n",
      "A value is trying to be set on a copy of a slice from a DataFrame.\n",
      "Try using .loc[row_indexer,col_indexer] = value instead\n",
      "\n",
      "See the caveats in the documentation: https://pandas.pydata.org/pandas-docs/stable/user_guide/indexing.html#returning-a-view-versus-a-copy\n",
      "  X_train[column] = encoder.fit_transform(X_train[column])\n",
      "/var/folders/p4/z85crthd66l5xfvh7tbbvz0h0000gn/T/ipykernel_97868/205612314.py:28: SettingWithCopyWarning: \n",
      "A value is trying to be set on a copy of a slice from a DataFrame.\n",
      "Try using .loc[row_indexer,col_indexer] = value instead\n",
      "\n",
      "See the caveats in the documentation: https://pandas.pydata.org/pandas-docs/stable/user_guide/indexing.html#returning-a-view-versus-a-copy\n",
      "  X_test[column] = X_test[column].apply(lambda x: encoder.transform([x])[0] if x in encoder.classes_ else np.nan)\n",
      "/var/folders/p4/z85crthd66l5xfvh7tbbvz0h0000gn/T/ipykernel_97868/205612314.py:25: SettingWithCopyWarning: \n",
      "A value is trying to be set on a copy of a slice from a DataFrame.\n",
      "Try using .loc[row_indexer,col_indexer] = value instead\n",
      "\n",
      "See the caveats in the documentation: https://pandas.pydata.org/pandas-docs/stable/user_guide/indexing.html#returning-a-view-versus-a-copy\n",
      "  X_train[column] = encoder.fit_transform(X_train[column])\n",
      "/var/folders/p4/z85crthd66l5xfvh7tbbvz0h0000gn/T/ipykernel_97868/205612314.py:28: SettingWithCopyWarning: \n",
      "A value is trying to be set on a copy of a slice from a DataFrame.\n",
      "Try using .loc[row_indexer,col_indexer] = value instead\n",
      "\n",
      "See the caveats in the documentation: https://pandas.pydata.org/pandas-docs/stable/user_guide/indexing.html#returning-a-view-versus-a-copy\n",
      "  X_test[column] = X_test[column].apply(lambda x: encoder.transform([x])[0] if x in encoder.classes_ else np.nan)\n",
      "/var/folders/p4/z85crthd66l5xfvh7tbbvz0h0000gn/T/ipykernel_97868/205612314.py:25: SettingWithCopyWarning: \n",
      "A value is trying to be set on a copy of a slice from a DataFrame.\n",
      "Try using .loc[row_indexer,col_indexer] = value instead\n",
      "\n",
      "See the caveats in the documentation: https://pandas.pydata.org/pandas-docs/stable/user_guide/indexing.html#returning-a-view-versus-a-copy\n",
      "  X_train[column] = encoder.fit_transform(X_train[column])\n",
      "/var/folders/p4/z85crthd66l5xfvh7tbbvz0h0000gn/T/ipykernel_97868/205612314.py:28: SettingWithCopyWarning: \n",
      "A value is trying to be set on a copy of a slice from a DataFrame.\n",
      "Try using .loc[row_indexer,col_indexer] = value instead\n",
      "\n",
      "See the caveats in the documentation: https://pandas.pydata.org/pandas-docs/stable/user_guide/indexing.html#returning-a-view-versus-a-copy\n",
      "  X_test[column] = X_test[column].apply(lambda x: encoder.transform([x])[0] if x in encoder.classes_ else np.nan)\n"
     ]
    },
    {
     "name": "stdout",
     "output_type": "stream",
     "text": [
      "      Cleaned_Period/Datering Predicted_Period/Datering\n",
      "0                         900                       NaN\n",
      "1                         NaN                       375\n",
      "2                        1050                       NaN\n",
      "3                        1050                       NaN\n",
      "4                         NaN                       375\n",
      "...                       ...                       ...\n",
      "11666                     NaN                      1000\n",
      "11667                     NaN                      1000\n",
      "11668                     NaN                      1000\n",
      "11669                     NaN                      1000\n",
      "11670                     NaN                      1000\n",
      "\n",
      "[11671 rows x 2 columns]\n"
     ]
    }
   ],
   "source": [
    "X = df[['Kommun', 'Koordinater', 'Materialtyp', 'Föremål']]\n",
    "y = df['Cleaned_Period/Datering']\n",
    "\n",
    "# Function to convert period strings to categorical labels\n",
    "def convert_to_label(date_string):\n",
    "    if isinstance(date_string, str):\n",
    "        return date_string  # Keep it as string for categorical encoding\n",
    "    return None\n",
    "\n",
    "# Convert the target variable to categorical\n",
    "y_categorical = y.apply(convert_to_label)\n",
    "\n",
    "# Separate the training data (non-null values) and test data (null values)\n",
    "train_mask = y_categorical.notnull()\n",
    "test_mask = y_categorical.isnull()\n",
    "\n",
    "X_train = X[train_mask]\n",
    "y_train = y_categorical[train_mask]\n",
    "X_test = X[test_mask]\n",
    "\n",
    "# Initialize a LabelEncoder for each categorical feature\n",
    "encoders = {}\n",
    "for column in X_train.select_dtypes(include=['object']).columns:\n",
    "    encoder = LabelEncoder()\n",
    "    X_train[column] = encoder.fit_transform(X_train[column])\n",
    "    encoders[column] = encoder\n",
    "    # Encode the test set, handle unseen labels\n",
    "    X_test[column] = X_test[column].apply(lambda x: encoder.transform([x])[0] if x in encoder.classes_ else np.nan)\n",
    "\n",
    "# Impute missing values in the features\n",
    "imputer = SimpleImputer(strategy='most_frequent')\n",
    "X_train = imputer.fit_transform(X_train)\n",
    "X_test = imputer.transform(X_test)\n",
    "\n",
    "# Scale the features\n",
    "scaler = StandardScaler()\n",
    "X_train = scaler.fit_transform(X_train)\n",
    "X_test = scaler.transform(X_test)\n",
    "\n",
    "# Train the Random Forest model\n",
    "model = RandomForestClassifier(n_estimators=100, random_state=42)  # You can adjust n_estimators\n",
    "model.fit(X_train, y_train)\n",
    "\n",
    "# Predict the missing values\n",
    "predicted_values = model.predict(X_test)\n",
    "\n",
    "# Create a new column in the original DataFrame for the predicted values\n",
    "df.loc[test_mask, 'Predicted_Period/Datering'] = predicted_values\n",
    "\n",
    "# Save the updated DataFrame to the Excel file\n",
    "output_path = '/Users/goranskejo/Desktop/Projekt Rundata/rundata_updated.xlsx'  # Specify your desired path\n",
    "df.to_excel(output_path, index=False)\n",
    "\n",
    "# View the updated DataFrame in console\n",
    "print(df[['Cleaned_Period/Datering', 'Predicted_Period/Datering']])"
   ]
  },
  {
   "cell_type": "code",
   "execution_count": null,
   "id": "9430930a",
   "metadata": {},
   "outputs": [],
   "source": []
  }
 ],
 "metadata": {
  "kernelspec": {
   "display_name": "Python 3 (ipykernel)",
   "language": "python",
   "name": "python3"
  },
  "language_info": {
   "codemirror_mode": {
    "name": "ipython",
    "version": 3
   },
   "file_extension": ".py",
   "mimetype": "text/x-python",
   "name": "python",
   "nbconvert_exporter": "python",
   "pygments_lexer": "ipython3",
   "version": "3.11.8"
  }
 },
 "nbformat": 4,
 "nbformat_minor": 5
}
