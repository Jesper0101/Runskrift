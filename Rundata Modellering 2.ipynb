{
 "cells": [
  {
   "cell_type": "code",
   "execution_count": 1,
   "id": "1c7c0a51",
   "metadata": {},
   "outputs": [],
   "source": [
    "import os\n",
    "import pandas as pd\n",
    "import numpy as np\n",
    "import requests\n",
    "from io import StringIO\n",
    "from sklearn.linear_model import LogisticRegression\n",
    "from sklearn.model_selection import train_test_split\n",
    "from sklearn.svm import SVC\n",
    "from sklearn.ensemble import RandomForestClassifier\n",
    "from sklearn.preprocessing import LabelEncoder, StandardScaler\n",
    "from sklearn.metrics import classification_report, accuracy_score\n",
    "from sklearn.impute import SimpleImputer\n",
    "import sqlalchemy \n",
    "from sqlalchemy import create_engine, text\n",
    "import matplotlib.pyplot as plt\n",
    "import matplotlib as mpl\n",
    "import chardet\n",
    "import xlrd\n",
    "import re"
   ]
  },
  {
   "cell_type": "code",
   "execution_count": 2,
   "id": "257a4541",
   "metadata": {},
   "outputs": [],
   "source": [
    "file_path = '/Users/goranskejo/Desktop/Projekt Rundata/cleaned_Period_Datering_rundata.xlsx'\n",
    "df = pd.read_excel(file_path)"
   ]
  },
  {
   "cell_type": "code",
   "execution_count": 3,
   "id": "22583202",
   "metadata": {},
   "outputs": [
    {
     "name": "stdout",
     "output_type": "stream",
     "text": [
      "Number of unique values in 'Period/Datering': 20\n"
     ]
    }
   ],
   "source": [
    "# Count the number of unique values in the columns 'Period/Datering' and 'Cleaned_Period/Datering'\n",
    "Period_Datering_unique_values_count = df['Period/Datering'].nunique()\n",
    "\n",
    "print(f\"Number of unique values in 'Period/Datering': {Period_Datering_unique_values_count}\")"
   ]
  },
  {
   "cell_type": "code",
   "execution_count": 4,
   "id": "d1c7300a",
   "metadata": {},
   "outputs": [
    {
     "data": {
      "text/plain": [
       "['Allmän/osäker sentida',\n",
       " 'Folkvandringstid 160–375',\n",
       " 'Högmedeltid 1150–1300',\n",
       " 'Mellanvendeltid 600–700',\n",
       " 'Modern tid 1500–1700',\n",
       " 'Modern tid 1700–1800',\n",
       " 'Modern tid 1800–1900',\n",
       " 'Oklar/allmän vendeltid',\n",
       " 'Okänd',\n",
       " 'Osäker/allmän medeltida',\n",
       " 'Sen vikingatid 1050-1200',\n",
       " 'Senmedeltid 1300–1500',\n",
       " 'Sent folkvandringstid 375–500',\n",
       " 'Sent vendeltid 700–800',\n",
       " 'Tidig medeltid 1000–1150',\n",
       " 'Tidig vendeltid 500–600',\n",
       " 'Tidig vikingatiden 700-800',\n",
       " 'Vikingatiden 800-1050',\n",
       " 'Vikingatiden 800–1050',\n",
       " 'unknown']"
      ]
     },
     "execution_count": 4,
     "metadata": {},
     "output_type": "execute_result"
    }
   ],
   "source": [
    "list_unique_dates = list(df['Period/Datering'].unique())\n",
    "list_unique_dates.sort()\n",
    "list_unique_dates"
   ]
  },
  {
   "cell_type": "code",
   "execution_count": 7,
   "id": "1b68b826",
   "metadata": {},
   "outputs": [
    {
     "name": "stdout",
     "output_type": "stream",
     "text": [
      "Number of training samples: 4984\n",
      "Number of testing samples: 6687\n",
      "             Period/Datering Predicted_Period/Datering\n",
      "0      allmän/osäker sentida     vikingatiden 800–1050\n",
      "1      allmän/osäker sentida     senmedeltid 1300–1500\n",
      "2      allmän/osäker sentida     vikingatiden 800-1050\n",
      "3      allmän/osäker sentida     vikingatiden 800-1050\n",
      "4      allmän/osäker sentida     vikingatiden 800-1050\n",
      "...                      ...                       ...\n",
      "11666  vikingatiden 800–1050                       NaN\n",
      "11667  vikingatiden 800–1050                       NaN\n",
      "11668  vikingatiden 800–1050                       NaN\n",
      "11669  vikingatiden 800–1050                       NaN\n",
      "11670  vikingatiden 800–1050                       NaN\n",
      "\n",
      "[11671 rows x 2 columns]\n"
     ]
    }
   ],
   "source": [
    "# Define unique numeric and non-numeric values (normalized to match DataFrame)\n",
    "numeric_values = [\n",
    "    'folkvandringstid 160–375',\n",
    "    'högmedeltid 1150–1300',\n",
    "    'mellanvendeltid 600–700',\n",
    "    'modern tid 1500–1700',\n",
    "    'modern tid 1700–1800',\n",
    "    'modern tid 1800–1900',\n",
    "    'sen vikingatid 1050-1200',\n",
    "    'senmedeltid 1300–1500',\n",
    "    'sent folkvandringstid 375–500',\n",
    "    'sent vendeltid 700–800',\n",
    "    'tidig medeltid 1000–1150',\n",
    "    'tidig vendeltid 500–600',\n",
    "    'tidig vikingatiden 700-800',\n",
    "    'vikingatiden 800-1050',\n",
    "    'vikingatiden 800–1050'\n",
    "]\n",
    "\n",
    "non_numeric_values = [\n",
    "    'allmän/osäker sentida',\n",
    "    'oklar/allmän vendeltid',\n",
    "    'okänd',\n",
    "    'osäker/allmän medeltida',\n",
    "    'unknown'\n",
    "]\n",
    "\n",
    "# Normalize the lists to lowercase for consistent comparison\n",
    "numeric_values = [value.lower() for value in numeric_values]\n",
    "non_numeric_values = [value.lower() for value in non_numeric_values]\n",
    "\n",
    "# Convert the DataFrame values to lowercase for comparison\n",
    "df['Period/Datering'] = df['Period/Datering'].str.lower()\n",
    "\n",
    "# Filter the DataFrame for training and testing\n",
    "train_mask = df['Period/Datering'].isin(numeric_values)\n",
    "test_mask = df['Period/Datering'].isin(non_numeric_values)\n",
    "\n",
    "# Print counts of training and testing sets\n",
    "print(f\"Number of training samples: {train_mask.sum()}\")\n",
    "print(f\"Number of testing samples: {test_mask.sum()}\")\n",
    "\n",
    "# Proceed only if we have samples for training and testing\n",
    "if train_mask.sum() > 0 and test_mask.sum() > 0:\n",
    "    X_train = df[train_mask][['Kommun', 'Koordinater', 'Materialtyp', 'Föremål']]\n",
    "    y_train = df[train_mask]['Period/Datering']\n",
    "    X_test = df[test_mask][['Kommun', 'Koordinater', 'Materialtyp', 'Föremål']]\n",
    "\n",
    "    # Encode categorical features\n",
    "    label_encoders = {}\n",
    "    for column in X_train.select_dtypes(include=['object']).columns:\n",
    "        encoder = LabelEncoder()\n",
    "        X_train[column] = encoder.fit_transform(X_train[column])\n",
    "        label_encoders[column] = encoder\n",
    "        # Apply the same encoding to the test set\n",
    "        X_test[column] = X_test[column].apply(lambda x: encoder.transform([x])[0] if x in encoder.classes_ else np.nan)\n",
    "\n",
    "    # Impute missing values in the features\n",
    "    imputer = SimpleImputer(strategy='most_frequent')\n",
    "    X_train = imputer.fit_transform(X_train)\n",
    "    X_test = imputer.transform(X_test)\n",
    "\n",
    "    # Scale the features\n",
    "    scaler = StandardScaler()\n",
    "    X_train = scaler.fit_transform(X_train)\n",
    "    X_test = scaler.transform(X_test)\n",
    "\n",
    "    # Train the Random Forest model\n",
    "    model = RandomForestClassifier(n_estimators=100, random_state=42)\n",
    "    model.fit(X_train, y_train)\n",
    "\n",
    "    # Predict the missing values\n",
    "    predicted_values = model.predict(X_test)\n",
    "\n",
    "    # Create a new column in the original DataFrame for the predicted values\n",
    "    df.loc[test_mask, 'Predicted_Period/Datering'] = predicted_values\n",
    "\n",
    "    # Save the updated DataFrame to Excel\n",
    "    output_path = '/Users/goranskejo/Desktop/Projekt Rundata/Rundata_period_updated.xlsx'  # Specify your desired path\n",
    "    df.to_excel(output_path, index=False)\n",
    "\n",
    "    # Optional: View the updated DataFrame in console\n",
    "    print(df[['Period/Datering', 'Predicted_Period/Datering']])\n",
    "else:\n",
    "    print(\"No valid samples found for training or testing.\")"
   ]
  },
  {
   "cell_type": "code",
   "execution_count": null,
   "id": "058c061e",
   "metadata": {},
   "outputs": [],
   "source": []
  }
 ],
 "metadata": {
  "kernelspec": {
   "display_name": "Python 3 (ipykernel)",
   "language": "python",
   "name": "python3"
  },
  "language_info": {
   "codemirror_mode": {
    "name": "ipython",
    "version": 3
   },
   "file_extension": ".py",
   "mimetype": "text/x-python",
   "name": "python",
   "nbconvert_exporter": "python",
   "pygments_lexer": "ipython3",
   "version": "3.11.8"
  }
 },
 "nbformat": 4,
 "nbformat_minor": 5
}
